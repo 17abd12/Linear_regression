{
 "cells": [
  {
   "cell_type": "code",
   "execution_count": 49,
   "id": "07f1eab5-5915-4a65-82c3-11900acf21fb",
   "metadata": {},
   "outputs": [],
   "source": [
    "import matplotlib.pyplot as plt\n",
    "import pandas as pd\n",
    "from sklearn.linear_model import LinearRegression\n",
    "from sklearn.model_selection import train_test_split\n",
    "import numpy as np"
   ]
  },
  {
   "cell_type": "markdown",
   "id": "06a02d50-0034-472f-b461-dee38f97e1e1",
   "metadata": {},
   "source": [
    "importing librariessss"
   ]
  },
  {
   "cell_type": "code",
   "execution_count": 50,
   "id": "030c5832",
   "metadata": {},
   "outputs": [
    {
     "data": {
      "text/html": [
       "<div>\n",
       "<style scoped>\n",
       "    .dataframe tbody tr th:only-of-type {\n",
       "        vertical-align: middle;\n",
       "    }\n",
       "\n",
       "    .dataframe tbody tr th {\n",
       "        vertical-align: top;\n",
       "    }\n",
       "\n",
       "    .dataframe thead th {\n",
       "        text-align: right;\n",
       "    }\n",
       "</style>\n",
       "<table border=\"1\" class=\"dataframe\">\n",
       "  <thead>\n",
       "    <tr style=\"text-align: right;\">\n",
       "      <th></th>\n",
       "      <th>Unnamed: 0</th>\n",
       "      <th>YearsExperience</th>\n",
       "      <th>Salary</th>\n",
       "    </tr>\n",
       "  </thead>\n",
       "  <tbody>\n",
       "    <tr>\n",
       "      <th>0</th>\n",
       "      <td>0</td>\n",
       "      <td>1.2</td>\n",
       "      <td>39344.0</td>\n",
       "    </tr>\n",
       "    <tr>\n",
       "      <th>1</th>\n",
       "      <td>1</td>\n",
       "      <td>1.4</td>\n",
       "      <td>46206.0</td>\n",
       "    </tr>\n",
       "    <tr>\n",
       "      <th>2</th>\n",
       "      <td>2</td>\n",
       "      <td>1.6</td>\n",
       "      <td>37732.0</td>\n",
       "    </tr>\n",
       "    <tr>\n",
       "      <th>3</th>\n",
       "      <td>3</td>\n",
       "      <td>2.1</td>\n",
       "      <td>43526.0</td>\n",
       "    </tr>\n",
       "    <tr>\n",
       "      <th>4</th>\n",
       "      <td>4</td>\n",
       "      <td>2.3</td>\n",
       "      <td>39892.0</td>\n",
       "    </tr>\n",
       "  </tbody>\n",
       "</table>\n",
       "</div>"
      ],
      "text/plain": [
       "   Unnamed: 0  YearsExperience   Salary\n",
       "0           0              1.2  39344.0\n",
       "1           1              1.4  46206.0\n",
       "2           2              1.6  37732.0\n",
       "3           3              2.1  43526.0\n",
       "4           4              2.3  39892.0"
      ]
     },
     "execution_count": 50,
     "metadata": {},
     "output_type": "execute_result"
    }
   ],
   "source": [
    "data = pd.read_csv('Salary_dataset.csv')\n",
    "data.head()"
   ]
  },
  {
   "attachments": {},
   "cell_type": "markdown",
   "id": "a78ced05",
   "metadata": {},
   "source": [
    "Reading data from csv 'Salary_dataset.csv'\n",
    "\n",
    "\n",
    "\n",
    "\n",
    "\n",
    "\n",
    "\n",
    "\n",
    "\n",
    "\n",
    "\n"
   ]
  },
  {
   "cell_type": "code",
   "execution_count": 51,
   "id": "ebc44b80-f2f8-448a-a2ee-aff54b03336e",
   "metadata": {},
   "outputs": [],
   "source": [
    "data = data.iloc[:,1:]\n",
    "data.head()\n",
    "x_axis = data['YearsExperience']\n",
    "y_axis = data['Salary']\n"
   ]
  },
  {
   "attachments": {},
   "cell_type": "markdown",
   "id": "03f81ab2",
   "metadata": {},
   "source": [
    "Seperating it into X axis and y axis\n"
   ]
  },
  {
   "cell_type": "code",
   "execution_count": 52,
   "id": "a35fdb12-d8aa-40ec-b443-2415691eea32",
   "metadata": {},
   "outputs": [
    {
     "data": {
      "text/plain": [
       "Text(0, 0.5, 'Year Expeirence')"
      ]
     },
     "execution_count": 52,
     "metadata": {},
     "output_type": "execute_result"
    },
    {
     "data": {
      "image/png": "[encoded data removed]",
      "text/plain": [
       "<Figure size 640x480 with 1 Axes>"
      ]
     },
     "metadata": {},
     "output_type": "display_data"
    }
   ],
   "source": [
    "plt.plot(y_axis,x_axis)\n",
    "plt.xlabel('Salaries')\n",
    "plt.ylabel('Year Expeirence')"
   ]
  },
  {
   "attachments": {},
   "cell_type": "markdown",
   "id": "28bd9305",
   "metadata": {},
   "source": [
    "Ploting Graph"
   ]
  },
  {
   "cell_type": "code",
   "execution_count": 66,
   "id": "d59239b2",
   "metadata": {},
   "outputs": [
    {
     "data": {
      "text/plain": [
       "(24, 1)"
      ]
     },
     "execution_count": 66,
     "metadata": {},
     "output_type": "execute_result"
    }
   ],
   "source": [
    "break_down = int(0.8*len(data))\n",
    "x_train,y_train = x_axis[:break_down],y_axis[:break_down]\n",
    "x_train = np.array(x_train)\n",
    "x_train = x_train.reshape(-1,1)\n",
    "y_train  = np.array(y_train)\n",
    "y_train = y_train.reshape(-1,1)\n",
    "x_test,y_test = x_axis[break_down:],y_axis[break_down:]\n",
    "x_test = np.array(x_test).reshape(-1,1)\n",
    "y_test = np.array(y_test).reshape(-1,1)\n",
    "x_train.shape\n",
    "\n",
    "\n",
    "\n"
   ]
  },
  {
   "attachments": {},
   "cell_type": "markdown",
   "id": "0303ea08",
   "metadata": {},
   "source": [
    "Preparing data for linear regression model for sklearn for a small data set \n"
   ]
  },
  {
   "cell_type": "code",
   "execution_count": 67,
   "id": "1361d023",
   "metadata": {},
   "outputs": [],
   "source": [
    "model = LinearRegression()\n",
    "model.fit(y_train,x_train)\n",
    "y_pred = model.predict(y_test)"
   ]
  },
  {
   "attachments": {},
   "cell_type": "markdown",
   "id": "21b52e78",
   "metadata": {},
   "source": [
    "training data with Linear Regression model by scikit_learn"
   ]
  },
  {
   "cell_type": "code",
   "execution_count": 71,
   "id": "95d6dfe6",
   "metadata": {},
   "outputs": [
    {
     "name": "stdout",
     "output_type": "stream",
     "text": [
      "The predicted value is 8.279901049971567 and the actual value is 8.799999999999999\n",
      "The predicted value is 7.928450571683565 and the actual value is 9.1\n",
      "The predicted value is 8.96819247770214 and the actual value is 9.6\n",
      "The predicted value is 8.572456865101408 and the actual value is 9.7\n",
      "The predicted value is 9.463272886451826 and the actual value is 10.4\n",
      "The predicted value is 9.415883227259446 and the actual value is 10.6\n"
     ]
    }
   ],
   "source": [
    "\n",
    "for x,y in zip(y_pred,x_test):\n",
    "    print(f'The predicted value is {x[0]} and the actual value is {y[0]}')"
   ]
  },
  {
   "attachments": {},
   "cell_type": "markdown",
   "id": "e5c4074d",
   "metadata": {},
   "source": [
    "Printing the actual Value and predicted value by my model"
   ]
  }
 ],
 "metadata": {
  "kernelspec": {
   "display_name": "Python 3 (ipykernel)",
   "language": "python",
   "name": "python3"
  },
  "language_info": {
   "codemirror_mode": {
    "name": "ipython",
    "version": 3
   },
   "file_extension": ".py",
   "mimetype": "text/x-python",
   "name": "python",
   "nbconvert_exporter": "python",
   "pygments_lexer": "ipython3",
   "version": "3.11.2"
  }
 },
 "nbformat": 4,
 "nbformat_minor": 5
}

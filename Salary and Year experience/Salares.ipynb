{
 "cells": [
  {
   "cell_type": "code",
   "execution_count": 15,
   "id": "07f1eab5-5915-4a65-82c3-11900acf21fb",
   "metadata": {},
   "outputs": [],
   "source": [
    "import matplotlib.pyplot as plt\n",
    "import pandas as pd\n",
    "from sklearn.linear_model import LinearRegression\n",
    "from sklearn.model_selection import train_test_split\n",
    "import numpy as np"
   ]
  },
  {
   "cell_type": "markdown",
   "id": "06a02d50-0034-472f-b461-dee38f97e1e1",
   "metadata": {},
   "source": [
    "importing librariessss"
   ]
  },
  {
   "cell_type": "code",
   "execution_count": 24,
   "id": "030c5832",
   "metadata": {},
   "outputs": [],
   "source": [
    "data = pd.read_csv('Salary_dataset.csv')\n",
    "data.head()\n",
    "data = data.sample(frac=1).reset_index(drop=True)"
   ]
  },
  {
   "attachments": {},
   "cell_type": "markdown",
   "id": "a78ced05",
   "metadata": {},
   "source": [
    "Reading data from csv 'Salary_dataset.csv'\n",
    "\n",
    "\n",
    "\n",
    "\n",
    "\n",
    "\n",
    "\n",
    "\n",
    "\n",
    "\n",
    "\n"
   ]
  },
  {
   "cell_type": "code",
   "execution_count": 25,
   "id": "ebc44b80-f2f8-448a-a2ee-aff54b03336e",
   "metadata": {},
   "outputs": [
    {
     "name": "stdout",
     "output_type": "stream",
     "text": [
      "<class 'pandas.core.series.Series'>\n"
     ]
    }
   ],
   "source": [
    "data = data.iloc[:,1:]\n",
    "data.head()\n",
    "x_axis = data['Salary']\n",
    "y_axis = data['YearsExperience']\n",
    "print(type(x_axis))\n",
    "\n",
    "\n"
   ]
  },
  {
   "attachments": {},
   "cell_type": "markdown",
   "id": "03f81ab2",
   "metadata": {},
   "source": [
    "Seperating it into X axis and y axis\n"
   ]
  },
  {
   "cell_type": "code",
   "execution_count": 33,
   "id": "a35fdb12-d8aa-40ec-b443-2415691eea32",
   "metadata": {},
   "outputs": [
    {
     "data": {
      "text/plain": [
       "Text(0, 0.5, 'Year Expeirence')"
      ]
     },
     "execution_count": 33,
     "metadata": {},
     "output_type": "execute_result"
    },
    {
     "data": {
      "image/png": "[encoded data removed]",
      "text/plain": [
       "<Figure size 640x480 with 1 Axes>"
      ]
     },
     "metadata": {},
     "output_type": "display_data"
    }
   ],
   "source": [
    "plt.scatter(x_axis,y_axis)\n",
    "plt.xlabel('Salaries')\n",
    "plt.ylabel('Year Expeirence')"
   ]
  },
  {
   "attachments": {},
   "cell_type": "markdown",
   "id": "28bd9305",
   "metadata": {},
   "source": [
    "Ploting Graph"
   ]
  },
  {
   "cell_type": "code",
   "execution_count": 27,
   "id": "d59239b2",
   "metadata": {},
   "outputs": [
    {
     "data": {
      "text/plain": [
       "(24, 1)"
      ]
     },
     "execution_count": 27,
     "metadata": {},
     "output_type": "execute_result"
    }
   ],
   "source": [
    "\n",
    "break_down = int(0.8*len(data))\n",
    "x_train,y_train = x_axis[:break_down],y_axis[:break_down]\n",
    "x_train = np.array(x_train)\n",
    "x_train = x_train.reshape(-1,1)\n",
    "y_train  = np.array(y_train)\n",
    "y_train = y_train.reshape(-1,1)\n",
    "x_test,y_test = x_axis[break_down:],y_axis[break_down:]\n",
    "x_test = np.array(x_test).reshape(-1,1)\n",
    "y_test = np.array(y_test).reshape(-1,1)\n",
    "x_train.shape\n",
    "\n",
    "\n",
    "\n"
   ]
  },
  {
   "attachments": {},
   "cell_type": "markdown",
   "id": "0303ea08",
   "metadata": {},
   "source": [
    "Preparing data for linear regression model for sklearn for a small data set \n"
   ]
  },
  {
   "cell_type": "code",
   "execution_count": 28,
   "id": "1361d023",
   "metadata": {},
   "outputs": [],
   "source": [
    "model = LinearRegression()\n",
    "model.fit(x_train,y_train)\n",
    "y_pred = model.predict(x_test)"
   ]
  },
  {
   "attachments": {},
   "cell_type": "markdown",
   "id": "21b52e78",
   "metadata": {},
   "source": [
    "training data with Linear Regression model by scikit_learn"
   ]
  },
  {
   "cell_type": "code",
   "execution_count": 29,
   "id": "95d6dfe6",
   "metadata": {},
   "outputs": [
    {
     "name": "stdout",
     "output_type": "stream",
     "text": [
      "The predicted value is 6.210996832288832 and the actual value is 5.4\n",
      "The predicted value is 10.120676347355168 and the actual value is 10.6\n",
      "The predicted value is 2.4929504844600467 and the actual value is 1.4\n",
      "The predicted value is 9.308175911829316 and the actual value is 8.299999999999999\n",
      "The predicted value is 8.047086526168222 and the actual value is 8.0\n",
      "The predicted value is 3.3235960910026057 and the actual value is 3.3000000000000003\n"
     ]
    }
   ],
   "source": [
    "\n",
    "for x,y in zip(y_pred,y_test):\n",
    "    print(f'The predicted value is {x[0]} and the actual value is {y[0]}')"
   ]
  },
  {
   "attachments": {},
   "cell_type": "markdown",
   "id": "e5c4074d",
   "metadata": {},
   "source": [
    "Printing the actual Value and predicted value by my model"
   ]
  },
  {
   "cell_type": "code",
   "execution_count": 30,
   "id": "4f04014b",
   "metadata": {},
   "outputs": [
    {
     "name": "stdout",
     "output_type": "stream",
     "text": [
      "Mean error of model is 0.5770215830656426\n",
      "Mean square error of my model is 2.9228653636675355\n"
     ]
    }
   ],
   "source": [
    "i = 0\n",
    "sum = 0\n",
    "sq_sum = 0\n",
    "for x,y in zip(y_test,y_pred):\n",
    "    sum += abs(x[0] - y[0])\n",
    "    sq_sum = x[0] * x[0] + y[0] + y[0]\n",
    "    i += 1\n",
    "print(f'Mean error of model is {sum/i}')  \n",
    "print(f'Mean square error of my model is {sq_sum/i}')  \n"
   ]
  }
 ],
 "metadata": {
  "kernelspec": {
   "display_name": "Python 3 (ipykernel)",
   "language": "python",
   "name": "python3"
  },
  "language_info": {
   "codemirror_mode": {
    "name": "ipython",
    "version": 3
   },
   "file_extension": ".py",
   "mimetype": "text/x-python",
   "name": "python",
   "nbconvert_exporter": "python",
   "pygments_lexer": "ipython3",
   "version": "3.11.2"
  }
 },
 "nbformat": 4,
 "nbformat_minor": 5
}
